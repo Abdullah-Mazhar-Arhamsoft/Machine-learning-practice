{
 "cells": [
  {
   "cell_type": "code",
   "execution_count": 6,
   "id": "4d5a77a4-c522-4744-9bfb-573ce3b8cab1",
   "metadata": {},
   "outputs": [
    {
     "name": "stdout",
     "output_type": "stream",
     "text": [
      "[[1 0 0 1 1 1]\n",
      " [1 1 0 1 1 1]\n",
      " [0 1 0 0 0 0]\n",
      " [0 0 1 0 0 1]\n",
      " [1 1 0 1 1 0]\n",
      " [0 1 0 1 1 0]]\n"
     ]
    }
   ],
   "source": [
    "import numpy as np\n",
    "\n",
    "X_Train =np.array([ [1,0,0,1,1,1],\n",
    "            [1,1,0,1,1,1],\n",
    "            [0,1,0,0,0,0],\n",
    "            [0,0,1,0,0,1],\n",
    "            [1,1,0,1,1,0],\n",
    "            [0,1,0,1,1,0]\n",
    "            ])\n",
    "\n",
    "print(X_Train)"
   ]
  },
  {
   "cell_type": "code",
   "execution_count": 7,
   "id": "268e7a0e-fde8-427f-8edb-d740c00d89d8",
   "metadata": {},
   "outputs": [
    {
     "name": "stdout",
     "output_type": "stream",
     "text": [
      "[[1 0 0 1 1 1]\n",
      " [1 1 0 1 1 1]\n",
      " [0 1 0 0 0 0]]\n"
     ]
    }
   ],
   "source": [
    "yes_train = X_Train[:3,:]\n",
    "print(yes_train)"
   ]
  }
 ],
 "metadata": {
  "kernelspec": {
   "display_name": "Python 3 (ipykernel)",
   "language": "python",
   "name": "python3"
  },
  "language_info": {
   "codemirror_mode": {
    "name": "ipython",
    "version": 3
   },
   "file_extension": ".py",
   "mimetype": "text/x-python",
   "name": "python",
   "nbconvert_exporter": "python",
   "pygments_lexer": "ipython3",
   "version": "3.9.12"
  }
 },
 "nbformat": 4,
 "nbformat_minor": 5
}

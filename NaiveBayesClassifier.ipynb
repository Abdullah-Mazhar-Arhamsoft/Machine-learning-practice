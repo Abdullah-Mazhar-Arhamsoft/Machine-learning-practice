{
 "cells": [
  {
   "cell_type": "code",
   "execution_count": 6,
   "id": "4d5a77a4-c522-4744-9bfb-573ce3b8cab1",
   "metadata": {},
   "outputs": [
    {
     "name": "stdout",
     "output_type": "stream",
     "text": [
      "[[1 0 0 1 1 1]\n",
      " [1 1 0 1 1 1]\n",
      " [0 1 0 0 0 0]\n",
      " [0 0 1 0 0 1]\n",
      " [1 1 0 1 1 0]\n",
      " [0 1 0 1 1 0]]\n"
     ]
    }
   ],
   "source": [
    "import numpy as np\n",
    "\n",
    "X_Train =np.array([ [1,0,0,1,1,1],\n",
    "            [1,1,0,1,1,1],\n",
    "            [0,1,0,0,0,0],\n",
    "            [0,0,1,0,0,1],\n",
    "            [1,1,0,1,1,0],\n",
    "            [0,1,0,1,1,0]\n",
    "            ])\n",
    "\n",
    "print(X_Train)"
   ]
  },
  {
   "cell_type": "code",
   "execution_count": 8,
   "id": "268e7a0e-fde8-427f-8edb-d740c00d89d8",
   "metadata": {},
   "outputs": [
    {
     "name": "stdout",
     "output_type": "stream",
     "text": [
      "[[1 0 0 1 1 1]\n",
      " [1 1 0 1 1 1]\n",
      " [0 1 0 0 0 0]]\n"
     ]
    }
   ],
   "source": [
    "yes_train = X_Train[:3,:]\n",
    "print(yes_train)"
   ]
  },
  {
   "cell_type": "code",
   "execution_count": 9,
   "id": "df6e2667-1150-4ddd-b12c-6c29ccbdda9c",
   "metadata": {},
   "outputs": [
    {
     "name": "stdout",
     "output_type": "stream",
     "text": [
      "[0.66666667 0.66666667 0.         0.66666667 0.66666667 0.66666667]\n"
     ]
    }
   ],
   "source": [
    "yes_one_prob = yes_train.sum(axis= 0)/ yes_train.shape[0]\n",
    "print(yes_one_prob)\n"
   ]
  },
  {
   "cell_type": "code",
   "execution_count": 10,
   "id": "01298b8a-4c63-41b6-ab64-899f9d5e0a19",
   "metadata": {},
   "outputs": [
    {
     "name": "stdout",
     "output_type": "stream",
     "text": [
      "[0.33333333 0.33333333 1.         0.33333333 0.33333333 0.33333333]\n"
     ]
    }
   ],
   "source": [
    "yes_zero_prob = 1 - yes_one_prob\n",
    "print(yes_zero_prob)"
   ]
  },
  {
   "cell_type": "code",
   "execution_count": null,
   "id": "0cefa56f-228f-4166-8689-a9d0a8558488",
   "metadata": {},
   "outputs": [],
   "source": []
  }
 ],
 "metadata": {
  "kernelspec": {
   "display_name": "Python 3 (ipykernel)",
   "language": "python",
   "name": "python3"
  },
  "language_info": {
   "codemirror_mode": {
    "name": "ipython",
    "version": 3
   },
   "file_extension": ".py",
   "mimetype": "text/x-python",
   "name": "python",
   "nbconvert_exporter": "python",
   "pygments_lexer": "ipython3",
   "version": "3.9.12"
  }
 },
 "nbformat": 4,
 "nbformat_minor": 5
}

{
 "cells": [
  {
   "cell_type": "code",
   "execution_count": 1,
   "metadata": {},
   "outputs": [],
   "source": [
    "import cv2\n",
    "import mediapipe as mp\n",
    "import time"
   ]
  },
  {
   "cell_type": "code",
   "execution_count": 2,
   "metadata": {},
   "outputs": [],
   "source": [
    "mpDraw = mp.solutions.drawing_utils\n",
    "mpPose = mp.solutions.pose\n",
    "pose = mpPose.Pose()\n",
    "\n",
    "cap = cv2.VideoCapture('PoseVideos/Pose4.mp4')\n",
    "ptime = 0\n",
    "\n",
    "while True:\n",
    "    success, img = cap.read()\n",
    "    imgRGB = cv2.cvtColor(img, cv2.COLOR_BGR2RGB)\n",
    "    results = pose.process(imgRGB)\n",
    "    # print(results.pose_landmarks)\n",
    "    if results.pose_landmarks:\n",
    "        mpDraw.draw_landmarks(img, results.pose_landmarks, mpPose.POSE_CONNECTIONS)\n",
    "        for id, lm in enumerate(results.pose_landmarks.landmark):\n",
    "            h, w, c = img.shape\n",
    "            # print(id, lm)\n",
    "            cx, cy = int(lm.x * w) , int(lm.y * h)\n",
    "            cv2.circle(img, (cx, cy), 15, (255, 0, 255), cv2.FILLED)\n",
    "\n",
    "    ctime = time.time()\n",
    "    fps = 1/(ctime - ptime)\n",
    "    ptime = ctime\n",
    "\n",
    "    cv2.putText(img, str(int(fps)), (70, 50), cv2.FONT_HERSHEY_PLAIN, 3, (255, 0, 0), 3)\n",
    "\n",
    "    cv2.namedWindow(\"Resized_Window\", cv2.WINDOW_NORMAL)\n",
    "    cv2.resizeWindow(\"Resized_Window\", 700, 700)\n",
    "    cv2.imshow(\"Resized_Window\", img)\n",
    "    if cv2.waitKey(1) & 0xFF == ord('q'):\n",
    "      break\n",
    "\n",
    "cap.release()"
   ]
  },
  {
   "cell_type": "code",
   "execution_count": null,
   "metadata": {},
   "outputs": [],
   "source": []
  }
 ],
 "metadata": {
  "kernelspec": {
   "display_name": "env1",
   "language": "python",
   "name": "python3"
  },
  "language_info": {
   "codemirror_mode": {
    "name": "ipython",
    "version": 3
   },
   "file_extension": ".py",
   "mimetype": "text/x-python",
   "name": "python",
   "nbconvert_exporter": "python",
   "pygments_lexer": "ipython3",
   "version": "3.10.7"
  },
  "orig_nbformat": 4,
  "vscode": {
   "interpreter": {
    "hash": "9762b65ea092d07537403797cd77c77172dbb418b70d6a03e78e0a3e8fcb34d1"
   }
  }
 },
 "nbformat": 4,
 "nbformat_minor": 2
}

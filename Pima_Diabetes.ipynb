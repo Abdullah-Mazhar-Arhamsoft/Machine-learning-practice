{
 "cells": [
  {
   "cell_type": "code",
   "execution_count": 1,
   "id": "a0ab69b9-213e-4557-b699-410655bebc85",
   "metadata": {},
   "outputs": [],
   "source": [
    "import csv\n",
    "import math\n",
    "import random"
   ]
  },
  {
   "cell_type": "code",
   "execution_count": 5,
   "id": "f3e03306-36c7-493c-be62-17e42ca98281",
   "metadata": {},
   "outputs": [],
   "source": [
    "# TO convert string into float\n",
    "def loadCsv(filename):\n",
    "    lines = csv.reader(open(r'C:\\Users\\Arhamsoft\\Desktop\\ML Practice\\pima-indians-diabetes.data.csv'))\n",
    "    dataset = list(lines)\n",
    "    for i in range(len(dataset)):\n",
    "        dataset[i] = [float(x) for x in dataset[i]]\n",
    "    return dataset"
   ]
  },
  {
   "cell_type": "code",
   "execution_count": 6,
   "id": "f5de1366-3d6c-4870-a581-e7dd3ad7e107",
   "metadata": {},
   "outputs": [],
   "source": [
    "# Split data into training and testing dataset\n",
    "def splitDataset(dataset, splitRatio):\n",
    "    trainSize = int(len(dataset) * splitRatio)\n",
    "    trainSet = []\n",
    "    copy = list(dataset)\n",
    "    while len(trainSet) < trainSize:\n",
    "        index = random.randrange(len(copy))\n",
    "        trainSet.append(copy.pop(index))\n",
    "    return [trainSet, copy]"
   ]
  },
  {
   "cell_type": "code",
   "execution_count": 7,
   "id": "427ef364-79b4-4b42-9447-e84bbde1b34c",
   "metadata": {},
   "outputs": [],
   "source": [
    "def seperateByClass(dataset):\n",
    "    seperated = {}\n",
    "    for i in range(len(dataset)):\n",
    "        vector = dataset[i]\n",
    "        if (vector[-1] not in seperated):\n",
    "            seperated[vector[-1]] = []\n",
    "        seperated[vector[-1]].append(vector)\n",
    "    return seperated"
   ]
  },
  {
   "cell_type": "code",
   "execution_count": 8,
   "id": "ae04fefc-2703-4e51-b510-11a54dd49b71",
   "metadata": {},
   "outputs": [],
   "source": [
    "# Function for mean\n",
    "def mean(numbers):\n",
    "    return sum(numbers)/float(len(numbers))"
   ]
  },
  {
   "cell_type": "code",
   "execution_count": 9,
   "id": "603fe397-95f3-4de0-ba94-f76907cd616b",
   "metadata": {},
   "outputs": [],
   "source": [
    "# Standard deviation\n",
    "def stdev(numbers):\n",
    "    avg = mean(numbers)\n",
    "    variance = sum([pow(x-avg, 2) for x in numbers]) / float(len(numbers)-1)\n",
    "    return math.sqrt(variance)"
   ]
  },
  {
   "cell_type": "code",
   "execution_count": 10,
   "id": "85097ed7-002a-4a7f-81f9-90d199e6dc73",
   "metadata": {},
   "outputs": [],
   "source": [
    "def summarize(dataset):\n",
    "    summaries = [(mean(attribute), stdev(attribute)) for attribute in zip(*dataset)]\n",
    "    del summaries[-1]\n",
    "    return summaries"
   ]
  },
  {
   "cell_type": "code",
   "execution_count": 11,
   "id": "89eeb76d-801d-48e5-a0db-ed9453296773",
   "metadata": {},
   "outputs": [],
   "source": [
    "def summarizeByCLass(dataset):\n",
    "    seperated = seperateByClass(dataset)\n",
    "    summaries = {}\n",
    "    for ClassValue, instances in seperated.items():\n",
    "        summaries[ClassValue] = summarize(instances)\n",
    "    return summaries"
   ]
  },
  {
   "cell_type": "code",
   "execution_count": 13,
   "id": "cd6dbd5e-ffe6-4f6f-903b-953c3520ef89",
   "metadata": {},
   "outputs": [],
   "source": [
    "def calculateProbability(x, mean, stdev):\n",
    "    exponent = math.exp(-(matth.pow(x-mean, 2)/2 * (math.pow(stdev, 2))))\n",
    "    return (1/(math.sqrt(2*math.pi)*stdev))*exponent"
   ]
  },
  {
   "cell_type": "code",
   "execution_count": 14,
   "id": "064d20e4-e223-4291-a43c-12e79a101cf1",
   "metadata": {},
   "outputs": [],
   "source": [
    "def ClaculateClassProbabilities(summaries, inputVector):\n",
    "    probabilities = {}\n",
    "    for ClassValue, classSummaries in summaries.items():\n",
    "        probabilities[ClassValue] = 1\n",
    "        for i in range(len(classSummaries)):\n",
    "            mean, stdev = classSummaries[i]\n",
    "            x = inputVector[i]\n",
    "            probabilities[ClassValue] *= calculateProbability(x, mean, stdev)\n",
    "        return probabilities "
   ]
  },
  {
   "cell_type": "code",
   "execution_count": null,
   "id": "81aadef3-b101-4899-95c8-f65e0c6ab5bd",
   "metadata": {},
   "outputs": [],
   "source": []
  }
 ],
 "metadata": {
  "kernelspec": {
   "display_name": "Python 3 (ipykernel)",
   "language": "python",
   "name": "python3"
  },
  "language_info": {
   "codemirror_mode": {
    "name": "ipython",
    "version": 3
   },
   "file_extension": ".py",
   "mimetype": "text/x-python",
   "name": "python",
   "nbconvert_exporter": "python",
   "pygments_lexer": "ipython3",
   "version": "3.9.12"
  }
 },
 "nbformat": 4,
 "nbformat_minor": 5
}

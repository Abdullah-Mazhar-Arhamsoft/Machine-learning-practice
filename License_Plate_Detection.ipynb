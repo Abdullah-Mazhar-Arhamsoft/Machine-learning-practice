{
 "cells": [
  {
   "cell_type": "code",
   "execution_count": 1,
   "id": "24ccd612-5875-445f-b6fd-b4f5eaf24417",
   "metadata": {},
   "outputs": [
    {
     "name": "stdout",
     "output_type": "stream",
     "text": [
      "Collecting opencv-contrib-python\n",
      "  Downloading opencv_contrib_python-4.6.0.66-cp36-abi3-win_amd64.whl (42.5 MB)\n",
      "     ---------------------------------------- 42.5/42.5 MB 3.0 MB/s eta 0:00:00\n",
      "Requirement already satisfied: numpy>=1.19.3 in c:\\users\\arhamsoft\\.conda\\envs\\env\\lib\\site-packages (from opencv-contrib-python) (1.23.4)\n",
      "Installing collected packages: opencv-contrib-python\n",
      "Successfully installed opencv-contrib-python-4.6.0.66\n"
     ]
    }
   ],
   "source": [
    "!pip install opencv-contrib-python"
   ]
  },
  {
   "cell_type": "code",
   "execution_count": 2,
   "id": "ee33fa43-13bb-4ef5-bbe9-4e45c3e2f0e0",
   "metadata": {},
   "outputs": [
    {
     "name": "stdout",
     "output_type": "stream",
     "text": [
      "Collecting imutils\n",
      "  Downloading imutils-0.5.4.tar.gz (17 kB)\n",
      "  Preparing metadata (setup.py): started\n",
      "  Preparing metadata (setup.py): finished with status 'done'\n",
      "Building wheels for collected packages: imutils\n",
      "  Building wheel for imutils (setup.py): started\n",
      "  Building wheel for imutils (setup.py): finished with status 'done'\n",
      "  Created wheel for imutils: filename=imutils-0.5.4-py3-none-any.whl size=25853 sha256=3068338474773f466aaabceaf09d396517ec96314da98e107ac4bf8d21da61a9\n",
      "  Stored in directory: c:\\users\\arhamsoft\\appdata\\local\\pip\\cache\\wheels\\4b\\a5\\2d\\4a070a801d3a3d93f033d3ee9728f470f514826e89952df3ea\n",
      "Successfully built imutils\n",
      "Installing collected packages: imutils\n",
      "Successfully installed imutils-0.5.4\n"
     ]
    }
   ],
   "source": [
    "!pip install imutils"
   ]
  },
  {
   "cell_type": "code",
   "execution_count": 3,
   "id": "9cc5a3c4-0878-41f7-beaf-726805f6fd08",
   "metadata": {},
   "outputs": [
    {
     "name": "stdout",
     "output_type": "stream",
     "text": [
      "Collecting pytesseract\n",
      "  Downloading pytesseract-0.3.10-py3-none-any.whl (14 kB)\n",
      "Requirement already satisfied: packaging>=21.3 in c:\\users\\arhamsoft\\.conda\\envs\\env\\lib\\site-packages (from pytesseract) (21.3)\n",
      "Requirement already satisfied: Pillow>=8.0.0 in c:\\users\\arhamsoft\\.conda\\envs\\env\\lib\\site-packages (from pytesseract) (9.3.0)\n",
      "Requirement already satisfied: pyparsing!=3.0.5,>=2.0.2 in c:\\users\\arhamsoft\\.conda\\envs\\env\\lib\\site-packages (from packaging>=21.3->pytesseract) (3.0.9)\n",
      "Installing collected packages: pytesseract\n",
      "Successfully installed pytesseract-0.3.10\n"
     ]
    }
   ],
   "source": [
    "!pip install pytesseract"
   ]
  },
  {
   "cell_type": "code",
   "execution_count": 1,
   "id": "ba928766-e349-4dd3-908d-44cc236d97e7",
   "metadata": {},
   "outputs": [],
   "source": [
    "import cv2\n",
    "import imutils\n",
    "import pytesseract"
   ]
  },
  {
   "cell_type": "code",
   "execution_count": 2,
   "id": "e03a5b7e-0336-4846-aff4-6e6ce8caf386",
   "metadata": {},
   "outputs": [],
   "source": [
    "pytesseract.pytesseract.tesseract_cmd = 'C:\\Program Files\\Tesseract-OCR\\\\tesseract'"
   ]
  },
  {
   "cell_type": "code",
   "execution_count": 3,
   "id": "7f61d040-cd21-48ee-a0da-78cec2cb3286",
   "metadata": {},
   "outputs": [
    {
     "data": {
      "text/plain": [
       "104"
      ]
     },
     "execution_count": 3,
     "metadata": {},
     "output_type": "execute_result"
    }
   ],
   "source": [
    "# Taking in our image input and resizing its width to 300 pixels\n",
    "\n",
    "image = cv2.imread('5952.jpg')\n",
    "image = imutils.resize(image, width=300 )\n",
    "cv2.imshow(\"original image\", image)\n",
    "cv2.waitKey(0)"
   ]
  },
  {
   "cell_type": "code",
   "execution_count": 4,
   "id": "25d8dbac-47f0-478a-b7e7-3c7f33a12137",
   "metadata": {},
   "outputs": [
    {
     "data": {
      "text/plain": [
       "104"
      ]
     },
     "execution_count": 4,
     "metadata": {},
     "output_type": "execute_result"
    }
   ],
   "source": [
    "# Converting the input image to greyscale\n",
    "\n",
    "gray_image = cv2.cvtColor(image, cv2.COLOR_BGR2GRAY)\n",
    "cv2.imshow(\"greyed image\", gray_image)\n",
    "cv2.waitKey(0)"
   ]
  },
  {
   "cell_type": "code",
   "execution_count": 5,
   "id": "a9871fd3-b9ae-4c1c-b216-3b9da2070e6a",
   "metadata": {},
   "outputs": [
    {
     "data": {
      "text/plain": [
       "104"
      ]
     },
     "execution_count": 5,
     "metadata": {},
     "output_type": "execute_result"
    }
   ],
   "source": [
    "# Reducing the noise in the greyscale image\n",
    "\n",
    "gray_image = cv2.bilateralFilter(gray_image, 11, 17, 17) \n",
    "cv2.imshow(\"smoothened image\", gray_image)\n",
    "cv2.waitKey(0)"
   ]
  },
  {
   "cell_type": "code",
   "execution_count": 6,
   "id": "3b94ed48-4ece-42f7-9386-12c7673a578f",
   "metadata": {},
   "outputs": [
    {
     "data": {
      "text/plain": [
       "104"
      ]
     },
     "execution_count": 6,
     "metadata": {},
     "output_type": "execute_result"
    }
   ],
   "source": [
    "# Detecting the edges of the smoothened image\n",
    "\n",
    "edged = cv2.Canny(gray_image, 30, 200) \n",
    "cv2.imshow(\"edged image\", edged)\n",
    "cv2.waitKey(0)"
   ]
  },
  {
   "cell_type": "code",
   "execution_count": 7,
   "id": "dd396325-c2e6-4c8a-8956-d46ec45b7cce",
   "metadata": {},
   "outputs": [
    {
     "data": {
      "text/plain": [
       "106"
      ]
     },
     "execution_count": 7,
     "metadata": {},
     "output_type": "execute_result"
    }
   ],
   "source": [
    "# Finding the contours from the edged image\n",
    "\n",
    "cnts,new = cv2.findContours(edged.copy(), cv2.RETR_LIST, cv2.CHAIN_APPROX_SIMPLE)\n",
    "image1=image.copy()\n",
    "cv2.drawContours(image1,cnts,-1,(0,255,0),3)\n",
    "cv2.imshow(\"contours\",image1)\n",
    "cv2.waitKey(0)"
   ]
  },
  {
   "cell_type": "code",
   "execution_count": 8,
   "id": "24f5e6e9-a637-4ff8-8d89-b77a5e622c60",
   "metadata": {},
   "outputs": [
    {
     "data": {
      "text/plain": [
       "107"
      ]
     },
     "execution_count": 8,
     "metadata": {},
     "output_type": "execute_result"
    }
   ],
   "source": [
    "# Sorting the identified contours\n",
    "\n",
    "cnts = sorted(cnts, key = cv2.contourArea, reverse = True) [:30]\n",
    "screenCnt = None\n",
    "image2 = image.copy()\n",
    "cv2.drawContours(image2,cnts,-1,(0,255,0),3)\n",
    "cv2.imshow(\"Top 30 contours\",image2)\n",
    "cv2.waitKey(0)"
   ]
  },
  {
   "cell_type": "code",
   "execution_count": 9,
   "id": "9c57d5c6-e352-4a40-b968-47c5416c8445",
   "metadata": {},
   "outputs": [],
   "source": [
    "# Finding the contour with four sides\n",
    "\n",
    "i=7\n",
    "for c in cnts:\n",
    "        perimeter = cv2.arcLength(c, True)\n",
    "        approx = cv2.approxPolyDP(c, 0.018 * perimeter, True)\n",
    "        if len(approx) == 4: \n",
    "            screenCnt = approx\n",
    "            # Cropping the rectangular part identified as license plate\n",
    "            x,y,w,h = cv2.boundingRect(c) \n",
    "            new_img=image[y:y+h,x:x+w]\n",
    "            cv2.imwrite('./'+str(i)+'.png',new_img)\n",
    "            i+=1\n",
    "            break"
   ]
  },
  {
   "cell_type": "code",
   "execution_count": 10,
   "id": "d7906177-93d8-4eb2-b8ad-4b575685ca16",
   "metadata": {},
   "outputs": [
    {
     "data": {
      "text/plain": [
       "108"
      ]
     },
     "execution_count": 10,
     "metadata": {},
     "output_type": "execute_result"
    }
   ],
   "source": [
    "# Drawing the selected contour on the original image\n",
    "\n",
    "cv2.drawContours(image, [screenCnt], -1, (0, 255, 0), 3)\n",
    "cv2.imshow(\"image with detected license plate\", image)\n",
    "cv2.waitKey(0)"
   ]
  },
  {
   "cell_type": "code",
   "execution_count": 12,
   "id": "3466c0ec-70bf-4c42-ae90-7e42b5438a4c",
   "metadata": {},
   "outputs": [
    {
     "name": "stdout",
     "output_type": "stream",
     "text": [
      "Number plate is: \n"
     ]
    }
   ],
   "source": [
    "# Extracting text from the image of the cropped license plate\n",
    "\n",
    "Cropped_loc = './7.png'\n",
    "cv2.imshow(\"cropped\", cv2.imread(Cropped_loc))\n",
    "plate = pytesseract.image_to_string(Cropped_loc, lang='eng')\n",
    "print(\"Number plate is:\", plate)\n",
    "cv2.waitKey(0)\n",
    "cv2.destroyAllWindows()"
   ]
  },
  {
   "cell_type": "code",
   "execution_count": null,
   "id": "9b4925fd-2d81-4ec3-8207-fac86ead99ef",
   "metadata": {},
   "outputs": [],
   "source": []
  }
 ],
 "metadata": {
  "kernelspec": {
   "display_name": "Python 3 (ipykernel)",
   "language": "python",
   "name": "python3"
  },
  "language_info": {
   "codemirror_mode": {
    "name": "ipython",
    "version": 3
   },
   "file_extension": ".py",
   "mimetype": "text/x-python",
   "name": "python",
   "nbconvert_exporter": "python",
   "pygments_lexer": "ipython3",
   "version": "3.9.15"
  }
 },
 "nbformat": 4,
 "nbformat_minor": 5
}
